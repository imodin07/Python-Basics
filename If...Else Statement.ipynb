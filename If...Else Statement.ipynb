{
 "cells": [
  {
   "cell_type": "markdown",
   "metadata": {},
   "source": [
    "# If...Else Statement"
   ]
  },
  {
   "cell_type": "code",
   "execution_count": null,
   "metadata": {},
   "outputs": [],
   "source": [
    "#Python condition and If statement"
   ]
  },
  {
   "cell_type": "code",
   "execution_count": null,
   "metadata": {},
   "outputs": [],
   "source": [
    "# Equals: a == b\n",
    "# No a  < B\n",
    "# Less than Equal to : a <= b\n",
    "#Greater thant equals == a!= b\n",
    "# Less than:: a > b\n",
    "#Greater than or eqal to: a >= b"
   ]
  },
  {
   "cell_type": "code",
   "execution_count": 1,
   "metadata": {},
   "outputs": [
    {
     "name": "stdout",
     "output_type": "stream",
     "text": [
      "b is greter than a\n"
     ]
    }
   ],
   "source": [
    "#if statement\n",
    "#An if statement is written by using if keyword.\n",
    "#Example\n",
    "\n",
    "a= 10\n",
    "b= 20\n",
    "if b>a:\n",
    "    print(\"b is greter than a\")"
   ]
  },
  {
   "cell_type": "code",
   "execution_count": null,
   "metadata": {},
   "outputs": [],
   "source": [
    "# Indentation\n",
    "# Python relies on indetation to define scope in the code."
   ]
  },
  {
   "cell_type": "code",
   "execution_count": 2,
   "metadata": {},
   "outputs": [
    {
     "ename": "IndentationError",
     "evalue": "expected an indented block (<ipython-input-2-25432c3e3b62>, line 4)",
     "output_type": "error",
     "traceback": [
      "\u001b[1;36m  File \u001b[1;32m\"<ipython-input-2-25432c3e3b62>\"\u001b[1;36m, line \u001b[1;32m4\u001b[0m\n\u001b[1;33m    print(\"b is greater than a\")\u001b[0m\n\u001b[1;37m    ^\u001b[0m\n\u001b[1;31mIndentationError\u001b[0m\u001b[1;31m:\u001b[0m expected an indented block\n"
     ]
    }
   ],
   "source": [
    "a= 40\n",
    "b= 300\n",
    "if b > a:\n",
    "print(\"b is greater than a\") #This will give you an error."
   ]
  },
  {
   "cell_type": "code",
   "execution_count": 4,
   "metadata": {},
   "outputs": [
    {
     "name": "stdout",
     "output_type": "stream",
     "text": [
      "a is equals b\n"
     ]
    }
   ],
   "source": [
    "#elif\n",
    "#The keyword elif in oython is way of saying \"if the previous condition is not true, then try this condition.\"\n",
    "\n",
    "a= 55\n",
    "b =55\n",
    "if b>a:\n",
    "    print(\"b is greater.\")\n",
    "elif a == b:\n",
    "     print(\"a is equals b\")"
   ]
  },
  {
   "cell_type": "code",
   "execution_count": 5,
   "metadata": {},
   "outputs": [
    {
     "name": "stdout",
     "output_type": "stream",
     "text": [
      "b is greater than a\n"
     ]
    }
   ],
   "source": [
    "#Else\n",
    "#Else keyword catches anything which isn't caught by the preceding conditions.\n",
    "\n",
    "a= 20\n",
    "b = 30\n",
    "if b > a:\n",
    "    print(\"b is greater than a\")\n",
    "elif a == b:\n",
    "    print(\"a is equal o b\")\n",
    "else:\n",
    "    print(\"a is greater than b\")"
   ]
  },
  {
   "cell_type": "code",
   "execution_count": 2,
   "metadata": {},
   "outputs": [
    {
     "name": "stdout",
     "output_type": "stream",
     "text": [
      "a is greater than b\n"
     ]
    }
   ],
   "source": [
    "#Short hand if\n",
    "#This function is used only when you have only one statement to execute.\n",
    "#You can put it on the same line as the if statement.\n",
    "#Example\n",
    "\n",
    "a= 500\n",
    "b = 50\n",
    "if a > b: print(\"a is greater than b\")"
   ]
  },
  {
   "cell_type": "code",
   "execution_count": 10,
   "metadata": {},
   "outputs": [
    {
     "name": "stdout",
     "output_type": "stream",
     "text": [
      "Smaller\n",
      "Equals\n"
     ]
    }
   ],
   "source": [
    "#Short hand if ... else\n",
    "#Example\n",
    "a = 2\n",
    "b= 10\n",
    "print(\"Greater\") if a> b else print(\"Smaller\")\n",
    "\n",
    "#This condition is known as Ternary operators or conditional statement.\n",
    "\n",
    "a = 10\n",
    "b = 10\n",
    "print(\"Greater\") if a > b else print (\"Equals\") if a == b else print (\"Smaller\")"
   ]
  },
  {
   "cell_type": "code",
   "execution_count": 15,
   "metadata": {},
   "outputs": [
    {
     "name": "stdout",
     "output_type": "stream",
     "text": [
      "Both the conditions are true.\n"
     ]
    }
   ],
   "source": [
    "#And\n",
    "#The and keyword is logical operator, and is used to combine conditional statement.\n",
    "a = 200\n",
    "b = 100\n",
    "c = 500\n",
    "if a > b and c > a:\n",
    "    print(\"Both the conditions are true.\")"
   ]
  },
  {
   "cell_type": "code",
   "execution_count": 16,
   "metadata": {},
   "outputs": [
    {
     "name": "stdout",
     "output_type": "stream",
     "text": [
      "At least one of the condition is True.\n"
     ]
    }
   ],
   "source": [
    "#OR\n",
    "#The 'OR' keyword is a logical operator, and is used to combine conditional statement.\n",
    "\n",
    "a = 200\n",
    "b = 100\n",
    "c = 500\n",
    "if a > b or a > c:\n",
    "    print(\"At least one of the condition is True.\")"
   ]
  },
  {
   "cell_type": "code",
   "execution_count": 5,
   "metadata": {},
   "outputs": [
    {
     "name": "stdout",
     "output_type": "stream",
     "text": [
      "Above ten\n",
      "and also above 20\n"
     ]
    }
   ],
   "source": [
    "#Nested if\n",
    "\n",
    "x= 44\n",
    "\n",
    "if x > 10:\n",
    "    print(\"Above ten\")\n",
    "    if x > 20:\n",
    "        print(\"and also above 20\")\n",
    "    else:\n",
    "        print(\"But not above 20.\")"
   ]
  },
  {
   "cell_type": "code",
   "execution_count": 1,
   "metadata": {},
   "outputs": [],
   "source": [
    "#The pass statement\n",
    "#if statement cannot be empty, but if you for some reason have an if statement with no content, put pass statement to avoid getting an error.\n",
    "a=20\n",
    "b=20\n",
    "\n",
    "if b > a:\n",
    "    pass"
   ]
  }
 ],
 "metadata": {
  "kernelspec": {
   "display_name": "Python 3",
   "language": "python",
   "name": "python3"
  },
  "language_info": {
   "codemirror_mode": {
    "name": "ipython",
    "version": 3
   },
   "file_extension": ".py",
   "mimetype": "text/x-python",
   "name": "python",
   "nbconvert_exporter": "python",
   "pygments_lexer": "ipython3",
   "version": "3.8.3"
  }
 },
 "nbformat": 4,
 "nbformat_minor": 4
}
