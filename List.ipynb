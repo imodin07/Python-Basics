{
 "cells": [
  {
   "cell_type": "markdown",
   "metadata": {},
   "source": [
    "# Python Collections"
   ]
  },
  {
   "cell_type": "markdown",
   "metadata": {},
   "source": [
    "## Python Lists "
   ]
  },
  {
   "cell_type": "code",
   "execution_count": 1,
   "metadata": {},
   "outputs": [
    {
     "name": "stdout",
     "output_type": "stream",
     "text": [
      "<class 'list'>\n"
     ]
    }
   ],
   "source": [
    "#List is collection which is 'Ordered' and 'changeable' and 'allows duplicate members'.\n",
    "\n",
    "#Python lists are written in '[]' brackets.\n",
    "\n",
    "#example\n",
    "\n",
    "x=[1,2,3,4]\n",
    "print(type(x))\n",
    "\n",
    "#The elements present inside the list is called as 'Item'."
   ]
  },
  {
   "cell_type": "code",
   "execution_count": 4,
   "metadata": {},
   "outputs": [
    {
     "name": "stdout",
     "output_type": "stream",
     "text": [
      "3\n",
      "[8, 5, 3, 44, 455]\n"
     ]
    }
   ],
   "source": [
    "#Accessing the item in List.\n",
    "#It's easy, access the element in list by reffering to index number.\n",
    "\n",
    "#for exapmle\n",
    "x= [1,367,8,5,3,44,455,]\n",
    "print(x[4])\n",
    "\n",
    "#Range indexing\n",
    "print(x[2:7])"
   ]
  },
  {
   "cell_type": "code",
   "execution_count": 5,
   "metadata": {},
   "outputs": [
    {
     "name": "stdout",
     "output_type": "stream",
     "text": [
      "90\n",
      "[3, 4, 4, 5, 76, 8, 90, 56]\n"
     ]
    }
   ],
   "source": [
    "#Negative Indexing\n",
    "#As we saw earlier negative indexing means measuring the elements at the staring of end of the list.\n",
    "#for example\n",
    "x= [1,2,3,4,4,5,76,8,90,56,5,5]\n",
    "print(x[-4])\n",
    "\n",
    "#Negative range indexing\n",
    "print(x[-10:-2])"
   ]
  },
  {
   "cell_type": "code",
   "execution_count": 6,
   "metadata": {},
   "outputs": [
    {
     "name": "stdout",
     "output_type": "stream",
     "text": [
      "['Bajaj', 'KTM', 'Kawasaki']\n"
     ]
    }
   ],
   "source": [
    "#Change the item value\n",
    "\n",
    "x= [\"Bajaj\", \"KTM\", \"Triumph\"]\n",
    "x[2]= \"Kawasaki\"\n",
    "print(x)"
   ]
  },
  {
   "cell_type": "code",
   "execution_count": 12,
   "metadata": {},
   "outputs": [
    {
     "name": "stdout",
     "output_type": "stream",
     "text": [
      "BAJAJ\n",
      "KTM\n",
      "KAWASAKI\n",
      "TRIUMPH\n",
      "ROYAL ENFIELD\n",
      "JAWA\n"
     ]
    }
   ],
   "source": [
    "#Looping through List\n",
    "#We can loop through list by using 'for' loop.\n",
    "\n",
    "lst= [\"BAJAJ\",\"KTM\", \"KAWASAKI\", \"TRIUMPH\", \"ROYAL ENFIELD\", \"JAWA\"]\n",
    "for x in lst:\n",
    "    print(x)"
   ]
  },
  {
   "cell_type": "code",
   "execution_count": 30,
   "metadata": {},
   "outputs": [
    {
     "name": "stdout",
     "output_type": "stream",
     "text": [
      "Yes\n"
     ]
    }
   ],
   "source": [
    "#Check if Item exist\n",
    "\n",
    "lst= [\"BAJAJ\",\"KTM\", \"KAWASAKI\", \"TRIUMPH\", \"ROYAL ENFIELD\", \"JAWA\"]\n",
    "if \"KTM\" in lst:\n",
    "    print(\"Yes\")\n",
    "else:\n",
    "    print(\"No\")"
   ]
  },
  {
   "cell_type": "code",
   "execution_count": 31,
   "metadata": {},
   "outputs": [
    {
     "name": "stdout",
     "output_type": "stream",
     "text": [
      "6\n"
     ]
    }
   ],
   "source": [
    "#List Length\n",
    "\n",
    "#To know how many items are present in List, we can use 'len()' function.\n",
    "\n",
    "lst= [\"BAJAJ\",\"KTM\", \"KAWASAKI\", \"TRIUMPH\", \"ROYAL ENFIELD\", \"JAWA\"]\n",
    "print(len(lst))"
   ]
  },
  {
   "cell_type": "code",
   "execution_count": 33,
   "metadata": {},
   "outputs": [
    {
     "name": "stdout",
     "output_type": "stream",
     "text": [
      "['BAJAJ', 'KTM', 'KAWASAKI', 'TRIUMPH', 'ROYAL ENFIELD', 'JAWA', 'HARLEY DAVIDSON']\n"
     ]
    }
   ],
   "source": [
    "#Add items to the list.\n",
    "#You can use 'append()' function to add item in list.\n",
    "\n",
    "lst= [\"BAJAJ\",\"KTM\", \"KAWASAKI\", \"TRIUMPH\", \"ROYAL ENFIELD\", \"JAWA\"]\n",
    "lst.append(\"HARLEY DAVIDSON\")\n",
    "print(lst)"
   ]
  },
  {
   "cell_type": "code",
   "execution_count": 37,
   "metadata": {},
   "outputs": [
    {
     "name": "stdout",
     "output_type": "stream",
     "text": [
      "['BAJAJ', 'KTM', 'KAWASAKI', 'HUSQURNA', 'TRIUMPH', 'ROYAL ENFIELD', 'JAWA']\n"
     ]
    }
   ],
   "source": [
    "#To add a item to specific value, we can use 'insert' function.\n",
    "\n",
    "lst= [\"BAJAJ\",\"KTM\", \"KAWASAKI\", \"TRIUMPH\", \"ROYAL ENFIELD\", \"JAWA\"]\n",
    "lst.insert(3,\"HUSQURNA\")\n",
    "print(lst)"
   ]
  },
  {
   "cell_type": "code",
   "execution_count": 39,
   "metadata": {},
   "outputs": [
    {
     "name": "stdout",
     "output_type": "stream",
     "text": [
      "['BAJAJ', 'KTM', 'KAWASAKI', 'TRIUMPH', 'ROYAL ENFIELD', 'JAWA']\n"
     ]
    }
   ],
   "source": [
    "#Remove item\n",
    "#To remove the specific item from list we can use 'remove' function.\n",
    "\n",
    "lst.remove(\"HUSQURNA\")\n",
    "print(lst)"
   ]
  },
  {
   "cell_type": "code",
   "execution_count": 41,
   "metadata": {},
   "outputs": [
    {
     "name": "stdout",
     "output_type": "stream",
     "text": [
      "['BAJAJ', 'KTM', 'KAWASAKI', 'ROYAL ENFIELD', 'JAWA']\n",
      "['BAJAJ', 'KTM', 'KAWASAKI', 'TRIUMPH', 'JAWA']\n"
     ]
    }
   ],
   "source": [
    "#pop method\n",
    "#'pop()' is used to remove the specified index.\n",
    "\n",
    "lst= [\"BAJAJ\",\"KTM\", \"KAWASAKI\", \"TRIUMPH\", \"ROYAL ENFIELD\", \"JAWA\"]\n",
    "lst.pop(3)\n",
    "print(lst)\n",
    "\n",
    "lst= [\"BAJAJ\",\"KTM\", \"KAWASAKI\", \"TRIUMPH\", \"ROYAL ENFIELD\", \"JAWA\"]\n",
    "lst.pop(4)\n",
    "print(lst)"
   ]
  },
  {
   "cell_type": "code",
   "execution_count": 45,
   "metadata": {},
   "outputs": [
    {
     "name": "stdout",
     "output_type": "stream",
     "text": [
      "['BAJAJ', 'KTM', 'KAWASAKI', 'TRIUMPH', 'JAWA']\n"
     ]
    }
   ],
   "source": [
    "#del\n",
    "#del keywords removes specified index\n",
    "\n",
    "lst= [\"BAJAJ\",\"KTM\", \"KAWASAKI\", \"TRIUMPH\", \"ROYAL ENFIELD\", \"JAWA\"]\n",
    "del lst[4]\n",
    "print(lst)\n",
    "\n",
    "#del keyword can also delete the entire list.\n",
    "lst= [\"BAJAJ\",\"KTM\", \"KAWASAKI\", \"TRIUMPH\", \"ROYAL ENFIELD\", \"JAWA\"]\n",
    "del lst"
   ]
  },
  {
   "cell_type": "code",
   "execution_count": 46,
   "metadata": {},
   "outputs": [
    {
     "name": "stdout",
     "output_type": "stream",
     "text": [
      "[]\n"
     ]
    }
   ],
   "source": [
    "#clear()\n",
    "#To empty he list we use clear() method\n",
    "\n",
    "lst= [\"BAJAJ\",\"KTM\", \"KAWASAKI\", \"TRIUMPH\", \"ROYAL ENFIELD\", \"JAWA\"]\n",
    "lst.clear()\n",
    "print(lst)"
   ]
  },
  {
   "cell_type": "code",
   "execution_count": 48,
   "metadata": {},
   "outputs": [
    {
     "name": "stdout",
     "output_type": "stream",
     "text": [
      "['BAJAJ', 'KTM', 'KAWASAKI', 'TRIUMPH', 'ROYAL ENFIELD', 'JAWA']\n",
      "['BAJAJ', 'KTM', 'KAWASAKI', 'TRIUMPH', 'ROYAL ENFIELD', 'JAWA']\n"
     ]
    }
   ],
   "source": [
    "#Copying the list\n",
    "#In python we can't copy the list by simply writing lst=lst1 as if we change the item in lst it'll automatically changes the item in list1.\n",
    "#Copying of the list can be done by two method as follow,\n",
    "\n",
    "# 1. copy() method\n",
    "\n",
    "lst= [\"BAJAJ\",\"KTM\", \"KAWASAKI\", \"TRIUMPH\", \"ROYAL ENFIELD\", \"JAWA\"]\n",
    "lst1= lst.copy()\n",
    "print(lst1)\n",
    "\n",
    "# 2.We can copy list by using 'list()' function.\n",
    "\n",
    "lst= [\"BAJAJ\",\"KTM\", \"KAWASAKI\", \"TRIUMPH\", \"ROYAL ENFIELD\", \"JAWA\"]\n",
    "lst1= list(lst)\n",
    "print(lst1)"
   ]
  },
  {
   "cell_type": "code",
   "execution_count": 54,
   "metadata": {
    "scrolled": true
   },
   "outputs": [
    {
     "name": "stdout",
     "output_type": "stream",
     "text": [
      "['BAJAJ', 'KTM', 'KAWASAKI', 'TRIUMPH', 'ROYAL ENFIELD', 'JAWA', 'HARLEY DAVIDSON', 'INDIAN']\n",
      "['BAJAJ', 'KTM', 'KAWASAKI', 'TRIUMPH', 'ROYAL ENFIELD', 'JAWA', 'HARLEY DAVIDSON']\n",
      "['BAJAJ', 'KTM', 'KAWASAKI', 'TRIUMPH', 'ROYAL ENFIELD', 'JAWA', 'HARLEY DAVIDSON', 'INDIAN']\n",
      "['BAJAJ', 'KTM', 'KAWASAKI', 'TRIUMPH', 'ROYAL ENFIELD', 'JAWA', 'HARLEY DAVIDSON', 'INDIAN']\n"
     ]
    }
   ],
   "source": [
    "#Joining two Lists\n",
    "#There are several ways to join two list in Python.\n",
    "\n",
    "lst= [\"BAJAJ\",\"KTM\", \"KAWASAKI\", \"TRIUMPH\", \"ROYAL ENFIELD\", \"JAWA\"]\n",
    "lst1= [\"HARLEY DAVIDSON\", \"INDIAN\"]\n",
    "\n",
    "lst2= lst+lst1\n",
    "print(lst2)\n",
    "\n",
    "#Another way of joining the list is by appending\n",
    "\n",
    "lst= [\"BAJAJ\",\"KTM\", \"KAWASAKI\", \"TRIUMPH\", \"ROYAL ENFIELD\", \"JAWA\"]\n",
    "lst1= [\"HARLEY DAVIDSON\", \"INDIAN\"]\n",
    "for x in lst1:\n",
    "    lst.append(x)\n",
    "    print(lst)\n",
    "\n",
    "\n",
    "#Also we can use 'exted() function'\n",
    "\n",
    "lst= [\"BAJAJ\",\"KTM\", \"KAWASAKI\", \"TRIUMPH\", \"ROYAL ENFIELD\", \"JAWA\"]\n",
    "lst1= [\"HARLEY DAVIDSON\", \"INDIAN\"]\n",
    "\n",
    "lst.extend(lst1)\n",
    "print(lst)"
   ]
  },
  {
   "cell_type": "code",
   "execution_count": 55,
   "metadata": {},
   "outputs": [
    {
     "name": "stdout",
     "output_type": "stream",
     "text": [
      "['JAWA', 'ROYAL ENFIELD', 'TRIUMPH', 'KAWASAKI', 'KTM', 'BAJAJ']\n"
     ]
    }
   ],
   "source": [
    "#To reverse the item of list, 'reverse()' is used.\n",
    "\n",
    "lst= [\"BAJAJ\",\"KTM\", \"KAWASAKI\", \"TRIUMPH\", \"ROYAL ENFIELD\", \"JAWA\"]\n",
    "lst.reverse()\n",
    "print(lst)"
   ]
  },
  {
   "cell_type": "code",
   "execution_count": null,
   "metadata": {},
   "outputs": [],
   "source": []
  },
  {
   "cell_type": "code",
   "execution_count": null,
   "metadata": {},
   "outputs": [],
   "source": []
  },
  {
   "cell_type": "code",
   "execution_count": null,
   "metadata": {},
   "outputs": [],
   "source": []
  },
  {
   "cell_type": "code",
   "execution_count": null,
   "metadata": {},
   "outputs": [],
   "source": []
  }
 ],
 "metadata": {
  "kernelspec": {
   "display_name": "Python 3",
   "language": "python",
   "name": "python3"
  },
  "language_info": {
   "codemirror_mode": {
    "name": "ipython",
    "version": 3
   },
   "file_extension": ".py",
   "mimetype": "text/x-python",
   "name": "python",
   "nbconvert_exporter": "python",
   "pygments_lexer": "ipython3",
   "version": "3.8.3"
  }
 },
 "nbformat": 4,
 "nbformat_minor": 4
}
