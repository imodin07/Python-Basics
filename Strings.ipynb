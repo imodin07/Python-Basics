{
 "cells": [
  {
   "cell_type": "markdown",
   "metadata": {},
   "source": [
    "# Strings"
   ]
  },
  {
   "cell_type": "code",
   "execution_count": 1,
   "metadata": {},
   "outputs": [
    {
     "name": "stdout",
     "output_type": "stream",
     "text": [
      "Hello World\n"
     ]
    }
   ],
   "source": [
    "#Strings in python are surrounded by double quotation or single quotation mark.\n",
    "\n",
    "#Example\n",
    "\n",
    "#'Hello' is the same as \"Hello\"\n",
    "\n",
    "#String can be displayed with print() function.\n",
    "\n",
    "x='Hello'\n",
    "y=\"World\"\n",
    "print(x,y)"
   ]
  },
  {
   "cell_type": "code",
   "execution_count": 2,
   "metadata": {},
   "outputs": [
    {
     "name": "stdout",
     "output_type": "stream",
     "text": [
      "Hello\n"
     ]
    }
   ],
   "source": [
    "#Assign String to a Variable\n",
    "#Assigning a string to a variable is done by variable name followed by an equal sign.\n",
    "\n",
    "a= \"Hello\"\n",
    "print(a)"
   ]
  },
  {
   "cell_type": "code",
   "execution_count": 6,
   "metadata": {},
   "outputs": [
    {
     "name": "stdout",
     "output_type": "stream",
     "text": [
      "Harry Potter is one of the iconic movies from 20th century. \n",
      "It was based on famous novel written by J.K .Rolling\n"
     ]
    }
   ],
   "source": [
    "#Multiple String\n",
    "\n",
    "#You can assign multiple string to variable using three quotes.\n",
    "\n",
    "a=\"\"\"Harry Potter is one of the iconic movies from 20th century. \n",
    "It was based on famous novel written by J.K .Rolling\"\"\"\n",
    "\n",
    "print(a)"
   ]
  },
  {
   "cell_type": "markdown",
   "metadata": {},
   "source": [
    "## String as Arrays"
   ]
  },
  {
   "cell_type": "code",
   "execution_count": 1,
   "metadata": {},
   "outputs": [
    {
     "name": "stdout",
     "output_type": "stream",
     "text": [
      "t\n"
     ]
    }
   ],
   "source": [
    "#Like many other languages strings in python are basically arryas of bytes represting unicode characters.\n",
    "#However python doesnt have a character data type, a single character is simply a string with length of 1.\n",
    "\n",
    "#Square brackets are used to access the element of string.\n",
    "\n",
    "#Example\n",
    "\n",
    "a= \"Strings are array\"\n",
    "print(a[1])\n",
    "\n",
    "#Note:- First character in string is considered as '0' in python."
   ]
  },
  {
   "cell_type": "code",
   "execution_count": 3,
   "metadata": {},
   "outputs": [
    {
     "name": "stdout",
     "output_type": "stream",
     "text": [
      "rings are \n"
     ]
    }
   ],
   "source": [
    "#Slicing\n",
    "\n",
    "#If you want to return range of character, slicing is used.\n",
    "\n",
    "#Example\n",
    "a= \"Strings are array\"\n",
    "print(a[2:12])"
   ]
  },
  {
   "cell_type": "code",
   "execution_count": 6,
   "metadata": {},
   "outputs": [
    {
     "name": "stdout",
     "output_type": "stream",
     "text": [
      " are arr\n"
     ]
    }
   ],
   "source": [
    "#Negative Indexing\n",
    "#Negative indexing is used to start the slice from the end of the string.\n",
    "\n",
    "a=\"Strings are array\"\n",
    "print(a[-10:-2])"
   ]
  },
  {
   "cell_type": "code",
   "execution_count": 7,
   "metadata": {},
   "outputs": [
    {
     "name": "stdout",
     "output_type": "stream",
     "text": [
      "17\n"
     ]
    }
   ],
   "source": [
    "#String Length\n",
    "#To get the length of string 'len' function is used.\n",
    "\n",
    "a=\"Strings are array\"\n",
    "print(len(a))"
   ]
  },
  {
   "cell_type": "markdown",
   "metadata": {},
   "source": [
    "## String Methods"
   ]
  },
  {
   "cell_type": "code",
   "execution_count": null,
   "metadata": {},
   "outputs": [],
   "source": [
    "#Built in Methods in python to operate on strings."
   ]
  },
  {
   "cell_type": "code",
   "execution_count": 9,
   "metadata": {},
   "outputs": [
    {
     "name": "stdout",
     "output_type": "stream",
     "text": [
      " Strings are important\n",
      "Strings are important\n"
     ]
    }
   ],
   "source": [
    "#Strip Method\n",
    "\n",
    "a=\" Strings are important\"\n",
    "print(a)\n",
    "print(a.strip()) "
   ]
  },
  {
   "cell_type": "code",
   "execution_count": 11,
   "metadata": {},
   "outputs": [
    {
     "name": "stdout",
     "output_type": "stream",
     "text": [
      "strings\n"
     ]
    }
   ],
   "source": [
    "#Lower case Method\n",
    "\n",
    "a=\"STriNGS\"\n",
    "print(a.lower())"
   ]
  },
  {
   "cell_type": "code",
   "execution_count": 12,
   "metadata": {},
   "outputs": [
    {
     "name": "stdout",
     "output_type": "stream",
     "text": [
      "STRINGS\n"
     ]
    }
   ],
   "source": [
    "#Upper case Method\n",
    "\n",
    "a=\"strings\"\n",
    "print(a.upper())"
   ]
  },
  {
   "cell_type": "code",
   "execution_count": 13,
   "metadata": {},
   "outputs": [
    {
     "name": "stdout",
     "output_type": "stream",
     "text": [
      "Stringss\n"
     ]
    }
   ],
   "source": [
    "#Relpace Method\n",
    "\n",
    "a= \"Strings\"\n",
    "print(a.replace(\"s\",\"ss\"))"
   ]
  },
  {
   "cell_type": "code",
   "execution_count": 16,
   "metadata": {},
   "outputs": [
    {
     "name": "stdout",
     "output_type": "stream",
     "text": [
      "['Strings', 'are', 'best']\n"
     ]
    }
   ],
   "source": [
    "#Split Method\n",
    "\n",
    "a= \"Strings are best\"\n",
    "print(a.split())"
   ]
  },
  {
   "cell_type": "code",
   "execution_count": 20,
   "metadata": {},
   "outputs": [
    {
     "name": "stdout",
     "output_type": "stream",
     "text": [
      "True\n",
      "False\n"
     ]
    }
   ],
   "source": [
    "#Check string\n",
    "\n",
    "#This is used to check if a certain phrase or character is present in string, we can use the keywords 'in' or 'not in'\n",
    "txt= \"Harry Potter is a great book to read.\"\n",
    "x= \"gre\" in txt\n",
    "print(x)\n",
    "\n",
    "#Check if phrase is not in text.\n",
    "\n",
    "txt= \"Harry Potter is a great book to read.\"\n",
    "x= \"gre\" not in txt\n",
    "print(x)"
   ]
  },
  {
   "cell_type": "code",
   "execution_count": 24,
   "metadata": {},
   "outputs": [
    {
     "name": "stdout",
     "output_type": "stream",
     "text": [
      "Harry Potter\n"
     ]
    }
   ],
   "source": [
    "#String Concatenation\n",
    "\n",
    "#To concatenate, or combine, two strings, we can use + operator\n",
    "\n",
    "a=\"Harry\"\n",
    "b=\"Potter\"\n",
    "\n",
    "c=a+' '+b\n",
    "print(c)"
   ]
  },
  {
   "cell_type": "code",
   "execution_count": 29,
   "metadata": {},
   "outputs": [
    {
     "name": "stdout",
     "output_type": "stream",
     "text": [
      "My name is Rishi, and I am 28.\n",
      "I want 10 dominar in firaste service centre of 1 crore.\n",
      "I want 1 crore dominar in 10 of firaste service centre.\n"
     ]
    }
   ],
   "source": [
    "#String Format\n",
    "\n",
    "age= 28\n",
    "txt= \"My name is Rishi, and I am {}.\"\n",
    "print(txt.format(age))\n",
    "\n",
    "quantity= 10\n",
    "place= \"firaste service centre\"\n",
    "rupees= \"1 crore\"\n",
    "myorder= \"I want {} dominar in {} of {}.\"\n",
    "print(myorder.format(quantity, place, rupees))\n",
    "\n",
    "quantity= 10\n",
    "place= \"firaste service centre\"\n",
    "rupees= \"1 crore\"\n",
    "myorder= \"I want {2} dominar in {0} of {1}.\"\n",
    "print(myorder.format(quantity,place,rupees))"
   ]
  },
  {
   "cell_type": "code",
   "execution_count": 40,
   "metadata": {},
   "outputs": [
    {
     "name": "stdout",
     "output_type": "stream",
     "text": [
      "i want \"Dominar\" \n",
      "in showroom.\n"
     ]
    }
   ],
   "source": [
    "#Escape Character\n",
    "\n",
    "txt=\"i want \\\"Dominar\\\" \\nin showroom.\"\n",
    "print(txt)"
   ]
  },
  {
   "cell_type": "code",
   "execution_count": null,
   "metadata": {},
   "outputs": [],
   "source": []
  },
  {
   "cell_type": "code",
   "execution_count": null,
   "metadata": {},
   "outputs": [],
   "source": []
  },
  {
   "cell_type": "code",
   "execution_count": null,
   "metadata": {},
   "outputs": [],
   "source": []
  },
  {
   "cell_type": "code",
   "execution_count": null,
   "metadata": {},
   "outputs": [],
   "source": []
  },
  {
   "cell_type": "code",
   "execution_count": null,
   "metadata": {},
   "outputs": [],
   "source": []
  },
  {
   "cell_type": "code",
   "execution_count": null,
   "metadata": {},
   "outputs": [],
   "source": []
  },
  {
   "cell_type": "code",
   "execution_count": null,
   "metadata": {},
   "outputs": [],
   "source": []
  },
  {
   "cell_type": "code",
   "execution_count": null,
   "metadata": {},
   "outputs": [],
   "source": []
  },
  {
   "cell_type": "code",
   "execution_count": null,
   "metadata": {},
   "outputs": [],
   "source": []
  },
  {
   "cell_type": "code",
   "execution_count": null,
   "metadata": {},
   "outputs": [],
   "source": []
  }
 ],
 "metadata": {
  "kernelspec": {
   "display_name": "Python 3",
   "language": "python",
   "name": "python3"
  },
  "language_info": {
   "codemirror_mode": {
    "name": "ipython",
    "version": 3
   },
   "file_extension": ".py",
   "mimetype": "text/x-python",
   "name": "python",
   "nbconvert_exporter": "python",
   "pygments_lexer": "ipython3",
   "version": "3.8.3"
  }
 },
 "nbformat": 4,
 "nbformat_minor": 4
}
