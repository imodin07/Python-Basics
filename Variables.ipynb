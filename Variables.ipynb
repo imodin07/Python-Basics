{
 "cells": [
  {
   "cell_type": "markdown",
   "metadata": {},
   "source": [
    "# Variables"
   ]
  },
  {
   "cell_type": "markdown",
   "metadata": {},
   "source": [
    "## Creating Variables"
   ]
  },
  {
   "cell_type": "code",
   "execution_count": null,
   "metadata": {},
   "outputs": [],
   "source": [
    "#Variables are container for storing data values.\n",
    "\n",
    "#Python has no command over declearing a variable.\n",
    "\n",
    "#A variable is created the moment you first assign value to it.\n",
    "\n",
    "#Example\n",
    "x=10\n",
    "y=\"Grand bay\"\n",
    "print(x)\n",
    "print(y)"
   ]
  },
  {
   "cell_type": "code",
   "execution_count": 2,
   "metadata": {},
   "outputs": [],
   "source": [
    "#In Python variables do not need to decleared with particular type, and cant even change type after they have been set.\n",
    "\n",
    "#Example\n",
    "x=5\n",
    "print(type(x))\n",
    "x=\"Grand Bay\"\n",
    "print(type(x))"
   ]
  },
  {
   "cell_type": "code",
   "execution_count": 4,
   "metadata": {},
   "outputs": [],
   "source": [
    "#String can be decleared either using single quotes or double quotes.\n",
    "\n",
    "#Example\n",
    "x=\"John\"\n",
    "x='John'\n",
    "#Both are same"
   ]
  },
  {
   "cell_type": "markdown",
   "metadata": {},
   "source": [
    "## Variable Names"
   ]
  },
  {
   "cell_type": "code",
   "execution_count": null,
   "metadata": {},
   "outputs": [],
   "source": [
    "#Variables name must start with letter or underscore.\n",
    "\n",
    "#Python is case sesitive language so Age,age,aGe are diffrent variables for python.\n",
    "\n",
    "#Variable can not start with number."
   ]
  },
  {
   "cell_type": "code",
   "execution_count": null,
   "metadata": {},
   "outputs": [],
   "source": [
    "#Legal variable name\n",
    "\n",
    "myvar=1\n",
    "myVar=2\n",
    "my_var=3\n",
    "_my_var=4\n",
    "MYVAR=5\n",
    "myvar2=6\n",
    "\n",
    "#Illegal Variable name\n",
    "1var= 4\n",
    "my-var=2\n",
    "my var= 5"
   ]
  },
  {
   "cell_type": "code",
   "execution_count": 5,
   "metadata": {},
   "outputs": [
    {
     "name": "stdout",
     "output_type": "stream",
     "text": [
      "Bajaj\n",
      "KTM\n",
      "Triumph\n"
     ]
    }
   ],
   "source": [
    "#You can assign mutiple variables in same line\n",
    "\n",
    "x,y,z= \"Bajaj\", \"KTM\", \"Triumph\"\n",
    "print(x)\n",
    "print(y)\n",
    "print(z)"
   ]
  },
  {
   "cell_type": "code",
   "execution_count": 6,
   "metadata": {},
   "outputs": [
    {
     "name": "stdout",
     "output_type": "stream",
     "text": [
      "Ducati Ducati Ducati\n"
     ]
    }
   ],
   "source": [
    "#You can assign multiple variables to same data.\n",
    "\n",
    "x=y=z= \"Ducati\"\n",
    "print(x,y,z)"
   ]
  },
  {
   "cell_type": "code",
   "execution_count": 8,
   "metadata": {},
   "outputs": [
    {
     "name": "stdout",
     "output_type": "stream",
     "text": [
      "Python is number one.\n"
     ]
    }
   ],
   "source": [
    "#Output Variable\n",
    "\n",
    "#Python uses print statement to get output variable.\n",
    "\n",
    "x=\"number one.\"\n",
    "\n",
    "print(\"Python is \" + x)"
   ]
  },
  {
   "cell_type": "code",
   "execution_count": 11,
   "metadata": {},
   "outputs": [
    {
     "name": "stdout",
     "output_type": "stream",
     "text": [
      "Grand Bay is awesome.\n"
     ]
    }
   ],
   "source": [
    "#You can also use '+' operator to add two variable.\n",
    "\n",
    "x= \"Grand Bay \"\n",
    "y= \"is awesome.\"\n",
    "\n",
    "print(x+y)"
   ]
  },
  {
   "cell_type": "code",
   "execution_count": 12,
   "metadata": {},
   "outputs": [
    {
     "name": "stdout",
     "output_type": "stream",
     "text": [
      "15\n"
     ]
    }
   ],
   "source": [
    "#'+' character can also used as mathematical operator.\n",
    "\n",
    "x=5\n",
    "y=10\n",
    "print(x+y)"
   ]
  },
  {
   "cell_type": "code",
   "execution_count": 13,
   "metadata": {
    "scrolled": true
   },
   "outputs": [
    {
     "ename": "TypeError",
     "evalue": "unsupported operand type(s) for +: 'int' and 'str'",
     "output_type": "error",
     "traceback": [
      "\u001b[1;31m---------------------------------------------------------------------------\u001b[0m",
      "\u001b[1;31mTypeError\u001b[0m                                 Traceback (most recent call last)",
      "\u001b[1;32m<ipython-input-13-22d99bd3e98d>\u001b[0m in \u001b[0;36m<module>\u001b[1;34m\u001b[0m\n\u001b[0;32m      3\u001b[0m \u001b[0mx\u001b[0m\u001b[1;33m=\u001b[0m\u001b[1;36m5\u001b[0m\u001b[1;33m\u001b[0m\u001b[1;33m\u001b[0m\u001b[0m\n\u001b[0;32m      4\u001b[0m \u001b[0my\u001b[0m\u001b[1;33m=\u001b[0m\u001b[1;34m\"Grand Bay\"\u001b[0m\u001b[1;33m\u001b[0m\u001b[1;33m\u001b[0m\u001b[0m\n\u001b[1;32m----> 5\u001b[1;33m \u001b[0mprint\u001b[0m\u001b[1;33m(\u001b[0m\u001b[0mx\u001b[0m\u001b[1;33m+\u001b[0m\u001b[0my\u001b[0m\u001b[1;33m)\u001b[0m\u001b[1;33m\u001b[0m\u001b[1;33m\u001b[0m\u001b[0m\n\u001b[0m",
      "\u001b[1;31mTypeError\u001b[0m: unsupported operand type(s) for +: 'int' and 'str'"
     ]
    }
   ],
   "source": [
    "#We can't combine number and string in python, it will give you an error.\n",
    "\n",
    "x=5\n",
    "y=\"Grand Bay\"\n",
    "print(x+y)"
   ]
  },
  {
   "cell_type": "markdown",
   "metadata": {},
   "source": [
    "## Global Variable"
   ]
  },
  {
   "cell_type": "code",
   "execution_count": 42,
   "metadata": {},
   "outputs": [
    {
     "name": "stdout",
     "output_type": "stream",
     "text": [
      "Python is awesome\n",
      "The best bike from Bajaj is Dominar.\n",
      "Grand bay is best.\n",
      "Grand Bay is awesome.\n",
      "Python is Best\n",
      "Python is Fantastic\n",
      "Grand Bay is Fantastic\n"
     ]
    }
   ],
   "source": [
    "#Variables that are created outside of a function are known as Global Variables.\n",
    "\n",
    "#Global variables can be used both inside and ouside the function.\n",
    "\n",
    "x= \"awesome\"\n",
    "\n",
    "def myfunc():\n",
    "    print(\"Python is \" + x)\n",
    "myfunc()\n",
    "\n",
    "y= \"Dominar.\"\n",
    "\n",
    "def myfunc():\n",
    "    print(\"The best bike from Bajaj is \" +y)\n",
    "myfunc()\n",
    "\n",
    "\n",
    "#If you create a variable with the same function inside a function, this variable will be local, and can only be used inside the fucntion.\n",
    "#The global variable with same name will remain as it was, alobal and with orignal value.\n",
    "\n",
    "x=\"awesome.\"\n",
    "\n",
    "def myfunc():\n",
    "    x=\"best.\"\n",
    "    print(\"Grand bay is \" + x)\n",
    "myfunc()\n",
    "\n",
    "print(\"Grand Bay is \" + x)\n",
    "\n",
    "#Global Keyword\n",
    "#If we want to specify global variable inside a fucntion then 'Global' keyword is used.\n",
    "\n",
    "def myfunc():\n",
    "    global x\n",
    "    x=\"Best\"\n",
    "myfunc()\n",
    "print(\"Python is \"+ x)\n",
    "\n",
    "#Also 'Global' keyword can be used the change the value inside the function.\n",
    "\n",
    "x=\"Best\"\n",
    "\n",
    "def myfunc():\n",
    "    global x\n",
    "    x = \"Fantastic\"\n",
    "\n",
    "myfunc()\n",
    "\n",
    "print(\"Python is \" + x)\n",
    "\n",
    "myfunc()  \n",
    "print(\"Grand Bay is \" + x)"
   ]
  },
  {
   "cell_type": "code",
   "execution_count": null,
   "metadata": {},
   "outputs": [],
   "source": []
  },
  {
   "cell_type": "code",
   "execution_count": null,
   "metadata": {},
   "outputs": [],
   "source": []
  },
  {
   "cell_type": "code",
   "execution_count": null,
   "metadata": {},
   "outputs": [],
   "source": []
  },
  {
   "cell_type": "code",
   "execution_count": null,
   "metadata": {},
   "outputs": [],
   "source": []
  },
  {
   "cell_type": "code",
   "execution_count": null,
   "metadata": {},
   "outputs": [],
   "source": []
  },
  {
   "cell_type": "code",
   "execution_count": null,
   "metadata": {},
   "outputs": [],
   "source": []
  },
  {
   "cell_type": "code",
   "execution_count": null,
   "metadata": {},
   "outputs": [],
   "source": []
  },
  {
   "cell_type": "code",
   "execution_count": null,
   "metadata": {},
   "outputs": [],
   "source": []
  },
  {
   "cell_type": "code",
   "execution_count": null,
   "metadata": {},
   "outputs": [],
   "source": []
  },
  {
   "cell_type": "code",
   "execution_count": null,
   "metadata": {},
   "outputs": [],
   "source": []
  },
  {
   "cell_type": "code",
   "execution_count": null,
   "metadata": {},
   "outputs": [],
   "source": []
  },
  {
   "cell_type": "code",
   "execution_count": null,
   "metadata": {},
   "outputs": [],
   "source": []
  },
  {
   "cell_type": "code",
   "execution_count": null,
   "metadata": {},
   "outputs": [],
   "source": []
  },
  {
   "cell_type": "code",
   "execution_count": null,
   "metadata": {},
   "outputs": [],
   "source": []
  },
  {
   "cell_type": "code",
   "execution_count": null,
   "metadata": {},
   "outputs": [],
   "source": []
  }
 ],
 "metadata": {
  "kernelspec": {
   "display_name": "Python 3",
   "language": "python",
   "name": "python3"
  },
  "language_info": {
   "codemirror_mode": {
    "name": "ipython",
    "version": 3
   },
   "file_extension": ".py",
   "mimetype": "text/x-python",
   "name": "python",
   "nbconvert_exporter": "python",
   "pygments_lexer": "ipython3",
   "version": "3.8.3"
  }
 },
 "nbformat": 4,
 "nbformat_minor": 4
}
