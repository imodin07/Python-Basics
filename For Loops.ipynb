{
 "cells": [
  {
   "cell_type": "markdown",
   "metadata": {},
   "source": [
    "# For Loops"
   ]
  },
  {
   "cell_type": "code",
   "execution_count": null,
   "metadata": {},
   "outputs": [],
   "source": [
    "#For loops are used for iterating over a sequence.\n",
    "#With for loop we can execute the set of statements, once for each item in a list, tuple, set etc."
   ]
  },
  {
   "cell_type": "code",
   "execution_count": 1,
   "metadata": {},
   "outputs": [
    {
     "name": "stdout",
     "output_type": "stream",
     "text": [
      "HP\n",
      "Dell\n",
      "Vaio\n"
     ]
    }
   ],
   "source": [
    "#Example\n",
    "brands = [\"HP\" , \"Dell\", \"Vaio\"]\n",
    "for x in brands:\n",
    "    print(x)"
   ]
  },
  {
   "cell_type": "code",
   "execution_count": null,
   "metadata": {},
   "outputs": [],
   "source": [
    "#Looping through string\n",
    "#Even strings are iterable objects, they can contain sequence of character."
   ]
  },
  {
   "cell_type": "code",
   "execution_count": 4,
   "metadata": {},
   "outputs": [
    {
     "name": "stdout",
     "output_type": "stream",
     "text": [
      "b\n",
      "a\n",
      "n\n",
      "a\n",
      "n\n",
      "a\n"
     ]
    }
   ],
   "source": [
    "for x in \"banana\":\n",
    "    print(x)"
   ]
  },
  {
   "cell_type": "code",
   "execution_count": 5,
   "metadata": {},
   "outputs": [
    {
     "name": "stdout",
     "output_type": "stream",
     "text": [
      "HP\n",
      "Dell\n"
     ]
    }
   ],
   "source": [
    "#The break Statement\n",
    "brands = [\"HP\" , \"Dell\", \"Vaio\"]\n",
    "for x in brands:\n",
    "    print(x)\n",
    "    if x == \"Dell\":\n",
    "        break"
   ]
  },
  {
   "cell_type": "code",
   "execution_count": 12,
   "metadata": {},
   "outputs": [
    {
     "name": "stdout",
     "output_type": "stream",
     "text": [
      "HP\n",
      "Vaio\n"
     ]
    }
   ],
   "source": [
    "#The continue statement\n",
    "brands = [\"HP\" , \"Dell\", \"Vaio\"]\n",
    "for x in brands:\n",
    "    if x == \"Dell\":\n",
    "        continue\n",
    "    print(x)"
   ]
  },
  {
   "cell_type": "code",
   "execution_count": 20,
   "metadata": {},
   "outputs": [
    {
     "name": "stdout",
     "output_type": "stream",
     "text": [
      "0\n",
      "1\n",
      "2\n",
      "3\n",
      "4\n",
      "5\n",
      "6\n",
      "7\n",
      "8\n",
      "9\n"
     ]
    }
   ],
   "source": [
    "#The range() Function\n",
    "#To loop through set of code a specified number of times, we can use range() function.\n",
    "#Example\n",
    "for x in range(10):\n",
    "    print(x)\n",
    "    \n",
    "#Note: Range is not value from 0 to 10 but the value from 0 to 9."
   ]
  },
  {
   "cell_type": "code",
   "execution_count": 22,
   "metadata": {},
   "outputs": [
    {
     "name": "stdout",
     "output_type": "stream",
     "text": [
      "0\n",
      "1\n",
      "2\n",
      "3\n",
      "4\n",
      "5\n",
      "6\n",
      "7\n",
      "8\n",
      "9\n",
      "FInsihed\n"
     ]
    }
   ],
   "source": [
    "#Else in for loop\n",
    "#The else keyword in a for loop specifies a block of code to be executed when the loop is finished.\n",
    "\n",
    "for x in range(10):\n",
    "    print(x)\n",
    "else:\n",
    "        print(\"FInsihed\")"
   ]
  },
  {
   "cell_type": "code",
   "execution_count": 27,
   "metadata": {},
   "outputs": [
    {
     "name": "stdout",
     "output_type": "stream",
     "text": [
      "red apple\n",
      "red banana\n",
      "red cherry\n",
      "big apple\n",
      "big banana\n",
      "big cherry\n",
      "tasty apple\n",
      "tasty banana\n",
      "tasty cherry\n",
      "big Magarpatta\n",
      "big Grand Bay\n",
      "big Amanora\n",
      "round Magarpatta\n",
      "round Grand Bay\n",
      "round Amanora\n",
      "beautiful Magarpatta\n",
      "beautiful Grand Bay\n",
      "beautiful Amanora\n"
     ]
    }
   ],
   "source": [
    "#Nested Loops\n",
    "#The nested loop is a loop inside a loop.\n",
    "#The inner loop will be executed one time for each iteration of the \"outer loop.\"\n",
    "\n",
    "adj = [\"red\", \"big\", \"tasty\"]\n",
    "fruits = [\"apple\", \"banana\", \"cherry\"]\n",
    "\n",
    "for x in adj:\n",
    "    for y in fruits:\n",
    "        print(x, y)\n",
    "        \n",
    "name = [\"big\", \"round\", \"beautiful\"]\n",
    "place = [\"Magarpatta\", \"Grand Bay\", \"Amanora\"]\n",
    "\n",
    "for x in name:\n",
    "    for y in place:\n",
    "        print(x,y)"
   ]
  },
  {
   "cell_type": "code",
   "execution_count": 25,
   "metadata": {},
   "outputs": [],
   "source": [
    "#Pass statement\n",
    "for x in [0,1,2]:\n",
    "    pass"
   ]
  }
 ],
 "metadata": {
  "kernelspec": {
   "display_name": "Python 3",
   "language": "python",
   "name": "python3"
  },
  "language_info": {
   "codemirror_mode": {
    "name": "ipython",
    "version": 3
   },
   "file_extension": ".py",
   "mimetype": "text/x-python",
   "name": "python",
   "nbconvert_exporter": "python",
   "pygments_lexer": "ipython3",
   "version": "3.8.3"
  }
 },
 "nbformat": 4,
 "nbformat_minor": 4
}
