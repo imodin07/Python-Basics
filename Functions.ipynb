{
 "cells": [
  {
   "cell_type": "markdown",
   "metadata": {},
   "source": [
    "# Python Functions"
   ]
  },
  {
   "cell_type": "code",
   "execution_count": null,
   "metadata": {},
   "outputs": [],
   "source": [
    "# A function is a block of code which only runs when it is called.\n",
    "# You can pass data, known as parameter, into a function.\n",
    "# A function can return data as resutl."
   ]
  },
  {
   "cell_type": "code",
   "execution_count": 5,
   "metadata": {},
   "outputs": [
    {
     "name": "stdout",
     "output_type": "stream",
     "text": [
      "Hello from a function\n"
     ]
    }
   ],
   "source": [
    "# Creating Function\n",
    "# In python functions are created using def word.\n",
    "# Example\n",
    "\n",
    "def my_func():\n",
    "    print(\"Hello from a function\")\n",
    "    \n",
    "my_func()"
   ]
  },
  {
   "cell_type": "code",
   "execution_count": 11,
   "metadata": {},
   "outputs": [
    {
     "name": "stdout",
     "output_type": "stream",
     "text": [
      "Email services \n",
      "Twiiter services \n"
     ]
    }
   ],
   "source": [
    "# Arguments\n",
    "# Information can be passed into functions as arguments.\n",
    "# Arguments are sepcified after the function name, in parantheses. We can add as many argument as we want, we just have to seprate them with comma.\n",
    "\n",
    "def my_func(test):\n",
    "    print( test + \" services\")\n",
    "\n",
    "my_func(\"Email\")\n",
    "my_func(\"Twiiter\")    "
   ]
  }
 ],
 "metadata": {
  "kernelspec": {
   "display_name": "Python 3",
   "language": "python",
   "name": "python3"
  },
  "language_info": {
   "codemirror_mode": {
    "name": "ipython",
    "version": 3
   },
   "file_extension": ".py",
   "mimetype": "text/x-python",
   "name": "python",
   "nbconvert_exporter": "python",
   "pygments_lexer": "ipython3",
   "version": "3.8.3"
  }
 },
 "nbformat": 4,
 "nbformat_minor": 4
}
