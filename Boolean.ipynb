{
 "cells": [
  {
   "cell_type": "markdown",
   "metadata": {},
   "source": [
    "# Python Boolean"
   ]
  },
  {
   "cell_type": "code",
   "execution_count": null,
   "metadata": {},
   "outputs": [],
   "source": [
    "#Boolean represents one of two values: True or False."
   ]
  },
  {
   "cell_type": "code",
   "execution_count": 11,
   "metadata": {},
   "outputs": [
    {
     "name": "stdout",
     "output_type": "stream",
     "text": [
      "True\n",
      "False\n",
      "False\n"
     ]
    }
   ],
   "source": [
    "#In programming you often need to know if an expression is True or False.\n",
    "\n",
    "#You can evaluate any expression in python and get onw of two answers, True or False.\n",
    "\n",
    "#This happens when you copmpare two values.\n",
    "\n",
    "#For example\n",
    "\n",
    "print(10 > 9)\n",
    "print(10 == 9)\n",
    "print(10 < 9)"
   ]
  },
  {
   "cell_type": "code",
   "execution_count": 17,
   "metadata": {},
   "outputs": [
    {
     "name": "stdout",
     "output_type": "stream",
     "text": [
      "a is greater than b\n",
      "a<b\n"
     ]
    }
   ],
   "source": [
    "#When you run a condition in an if statement, python return True or False.\n",
    "\n",
    "#For example\n",
    "\n",
    "a=90\n",
    "b=10\n",
    "\n",
    "if a>b:\n",
    "    print(\"a is greater than b\")\n",
    "else:\n",
    "     print(\"a is smaller than b\")\n",
    "        \n",
    "\n",
    "#2nd Example\n",
    "\n",
    "a=40\n",
    "b=40.5\n",
    "\n",
    "if a>b:\n",
    "    print(\"a>b\")\n",
    "else:\n",
    "    print(\"a<b\")\n",
    "        "
   ]
  },
  {
   "cell_type": "code",
   "execution_count": 23,
   "metadata": {},
   "outputs": [
    {
     "name": "stdout",
     "output_type": "stream",
     "text": [
      "True\n",
      "True\n",
      "True\n",
      "True\n"
     ]
    }
   ],
   "source": [
    "#Evaluate Vallues and Variables\n",
    "\n",
    "#The 'bool()' function allows you to evaluate any value & give you True or False.\n",
    "\n",
    "print(bool(\"Hello\"))\n",
    "print(bool(90))\n",
    "\n",
    "x=\"Hey\"\n",
    "y= 1\n",
    "print(bool(x))\n",
    "print(bool(y))"
   ]
  },
  {
   "cell_type": "code",
   "execution_count": 25,
   "metadata": {},
   "outputs": [
    {
     "name": "stdout",
     "output_type": "stream",
     "text": [
      "False\n",
      "False\n",
      "True\n"
     ]
    }
   ],
   "source": [
    "#Most Values are true for boolean function.\n",
    "\n",
    "#Any string is True, except it's an empty string.\n",
    "#Any number is rue, except '0'\n",
    "#Any lsit,tuple,dict,set is True except empty once.\n",
    "\n",
    "#for example\n",
    "x=\"\"\n",
    "print(bool(x))\n",
    "\n",
    "x= 0\n",
    "print(bool(x))\n",
    "\n",
    "x= [1,2,3,4]\n",
    "print(bool(x))"
   ]
  },
  {
   "cell_type": "code",
   "execution_count": 26,
   "metadata": {},
   "outputs": [
    {
     "name": "stdout",
     "output_type": "stream",
     "text": [
      "True\n"
     ]
    }
   ],
   "source": [
    "#Functions can return a boolean.\n",
    "#You can create the functions that can return true values.\n",
    "\n",
    "def myfunction():\n",
    "    return True\n",
    "\n",
    "print(myfunction())"
   ]
  },
  {
   "cell_type": "code",
   "execution_count": 28,
   "metadata": {},
   "outputs": [
    {
     "name": "stdout",
     "output_type": "stream",
     "text": [
      "True\n",
      "False\n"
     ]
    }
   ],
   "source": [
    "#isinstance()\n",
    "#Python also has many bult in function that return boolean values. We can use 'isinstace' function to know if the data type is true of false.\n",
    "\n",
    "#for exapmle\n",
    "\n",
    "x=200\n",
    "print(isinstance(x,int))\n",
    "\n",
    "x=22\n",
    "print(isinstance(x,float))"
   ]
  },
  {
   "cell_type": "code",
   "execution_count": null,
   "metadata": {},
   "outputs": [],
   "source": []
  },
  {
   "cell_type": "code",
   "execution_count": null,
   "metadata": {},
   "outputs": [],
   "source": []
  },
  {
   "cell_type": "code",
   "execution_count": null,
   "metadata": {},
   "outputs": [],
   "source": []
  },
  {
   "cell_type": "code",
   "execution_count": null,
   "metadata": {},
   "outputs": [],
   "source": []
  },
  {
   "cell_type": "code",
   "execution_count": null,
   "metadata": {},
   "outputs": [],
   "source": []
  },
  {
   "cell_type": "code",
   "execution_count": null,
   "metadata": {},
   "outputs": [],
   "source": []
  }
 ],
 "metadata": {
  "kernelspec": {
   "display_name": "Python 3",
   "language": "python",
   "name": "python3"
  },
  "language_info": {
   "codemirror_mode": {
    "name": "ipython",
    "version": 3
   },
   "file_extension": ".py",
   "mimetype": "text/x-python",
   "name": "python",
   "nbconvert_exporter": "python",
   "pygments_lexer": "ipython3",
   "version": "3.8.3"
  }
 },
 "nbformat": 4,
 "nbformat_minor": 4
}
