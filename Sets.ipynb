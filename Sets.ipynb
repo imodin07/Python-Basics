{
 "cells": [
  {
   "cell_type": "markdown",
   "metadata": {},
   "source": [
    "# Sets "
   ]
  },
  {
   "cell_type": "code",
   "execution_count": 1,
   "metadata": {},
   "outputs": [
    {
     "name": "stdout",
     "output_type": "stream",
     "text": [
      "<class 'set'>\n"
     ]
    }
   ],
   "source": [
    "#A set is collection which is unordered and unidexed.\n",
    "#Sets are represented by curly brackets.\n",
    "\n",
    "my_set= {\"HP\", \"Vaio\",\"Dell\", \" Lenovo\",\"Microsoft\", \"Apple\"}\n",
    "print(type(my_set))\n",
    "\n",
    "#Tip= Sets are unordered so you can not be sure in which order the items will appear."
   ]
  },
  {
   "cell_type": "code",
   "execution_count": 5,
   "metadata": {},
   "outputs": [
    {
     "name": "stdout",
     "output_type": "stream",
     "text": [
      "Honda\n",
      "Suzuki\n",
      "Maruti\n",
      "Mahindra\n",
      "True\n",
      "False\n"
     ]
    }
   ],
   "source": [
    "#Accessing Item\n",
    "#You cannot access the element in set by referring to an index or key.\n",
    "#But you can loop through the set using for loop or ask if specified value is present in set using in keyword.\n",
    "\n",
    "my_set= {\"HP\", \"Vaio\",\"Dell\", \" Lenovo\",\"Microsoft\", \"Apple\"}\n",
    "\n",
    "for x in my_tuple:\n",
    "    print(x)\n",
    "    \n",
    "#Check if Vaio is present in set.\n",
    "\n",
    "my_set= {\"HP\", \"Vaio\",\"Dell\", \" Lenovo\",\"Microsoft\", \"Apple\"}\n",
    "print(\"Vaio\" in my_set)\n",
    "\n",
    "my_set= {\"HP\", \"Vaio\",\"Dell\", \" Lenovo\",\"Microsoft\", \"Apple\"}\n",
    "print(\"Samsung\" in my_set)"
   ]
  },
  {
   "cell_type": "code",
   "execution_count": null,
   "metadata": {},
   "outputs": [],
   "source": [
    "#Change the items"
   ]
  },
  {
   "cell_type": "code",
   "execution_count": 6,
   "metadata": {},
   "outputs": [
    {
     "name": "stdout",
     "output_type": "stream",
     "text": [
      "{'Microsoft', 'HP', 'Vaio', 'Samsung', 'Apple', ' Lenovo', 'Dell'}\n"
     ]
    }
   ],
   "source": [
    "#Once you create the set, you can not change the item in set, but you can add new item.\n",
    "\n",
    "my_set= {\"HP\", \"Vaio\",\"Dell\", \" Lenovo\",\"Microsoft\", \"Apple\"}\n",
    "my_set.add(\"Samsung\")\n",
    "print(my_set)"
   ]
  },
  {
   "cell_type": "code",
   "execution_count": 8,
   "metadata": {},
   "outputs": [
    {
     "name": "stdout",
     "output_type": "stream",
     "text": [
      "{'Microsoft', 'HP', 'Vaio', 'Samsung', 'Apple', 'Acer', ' Lenovo', 'Dell'}\n"
     ]
    }
   ],
   "source": [
    "#Adding multiple items to the set using 'update() method'\n",
    "my_set= {\"HP\", \"Vaio\",\"Dell\", \" Lenovo\",\"Microsoft\", \"Apple\"}\n",
    "\n",
    "my_set.update([\"Samsung\", \"Acer\"]) #Notice the curly bracket\n",
    "print(my_set)"
   ]
  },
  {
   "cell_type": "code",
   "execution_count": 10,
   "metadata": {},
   "outputs": [
    {
     "name": "stdout",
     "output_type": "stream",
     "text": [
      "6\n"
     ]
    }
   ],
   "source": [
    "#Getting Length of set\n",
    "my_set= {\"HP\", \"Vaio\",\"Dell\", \" Lenovo\",\"Microsoft\", \"Apple\"}\n",
    "print(len(my_set))"
   ]
  },
  {
   "cell_type": "code",
   "execution_count": 12,
   "metadata": {},
   "outputs": [
    {
     "name": "stdout",
     "output_type": "stream",
     "text": [
      "{'Microsoft', 'HP', 'Vaio', ' Lenovo', 'Dell'}\n",
      "{'HP', 'Vaio', 'Apple', ' Lenovo', 'Dell'}\n"
     ]
    }
   ],
   "source": [
    "#Remove Item\n",
    "#By remove() method\n",
    "\n",
    "my_set= {\"HP\", \"Vaio\",\"Dell\", \" Lenovo\",\"Microsoft\", \"Apple\"}\n",
    "my_set.remove(\"Apple\")\n",
    "print(my_set)\n",
    "\n",
    "#By discard() Method.\n",
    "my_set= {\"HP\", \"Vaio\",\"Dell\", \" Lenovo\",\"Microsoft\", \"Apple\"}\n",
    "my_set.discard(\"Microsoft\")\n",
    "print(my_set)\n",
    "\n",
    "#Note\n",
    "#We can use pop() method to remove the item from set but as set are unordered we it'll only remove the last item\n",
    "#To remove particular item, always use remove() or discard() method."
   ]
  },
  {
   "cell_type": "code",
   "execution_count": 13,
   "metadata": {},
   "outputs": [
    {
     "name": "stdout",
     "output_type": "stream",
     "text": [
      "set()\n"
     ]
    }
   ],
   "source": [
    "#Clear() MEthod\n",
    "#This method will remove the item in set.\n",
    "my_set= {\"HP\", \"Vaio\",\"Dell\", \" Lenovo\",\"Microsoft\", \"Apple\"}\n",
    "my_set.clear()\n",
    "print(my_set)"
   ]
  },
  {
   "cell_type": "code",
   "execution_count": 14,
   "metadata": {},
   "outputs": [
    {
     "ename": "NameError",
     "evalue": "name 'my_set' is not defined",
     "output_type": "error",
     "traceback": [
      "\u001b[1;31m---------------------------------------------------------------------------\u001b[0m",
      "\u001b[1;31mNameError\u001b[0m                                 Traceback (most recent call last)",
      "\u001b[1;32m<ipython-input-14-0a9e4e4c9c79>\u001b[0m in \u001b[0;36m<module>\u001b[1;34m\u001b[0m\n\u001b[0;32m      2\u001b[0m \u001b[0mmy_set\u001b[0m\u001b[1;33m=\u001b[0m \u001b[1;33m{\u001b[0m\u001b[1;34m\"HP\"\u001b[0m\u001b[1;33m,\u001b[0m \u001b[1;34m\"Vaio\"\u001b[0m\u001b[1;33m,\u001b[0m\u001b[1;34m\"Dell\"\u001b[0m\u001b[1;33m,\u001b[0m \u001b[1;34m\" Lenovo\"\u001b[0m\u001b[1;33m,\u001b[0m\u001b[1;34m\"Microsoft\"\u001b[0m\u001b[1;33m,\u001b[0m \u001b[1;34m\"Apple\"\u001b[0m\u001b[1;33m}\u001b[0m\u001b[1;33m\u001b[0m\u001b[1;33m\u001b[0m\u001b[0m\n\u001b[0;32m      3\u001b[0m \u001b[1;32mdel\u001b[0m \u001b[0mmy_set\u001b[0m\u001b[1;33m\u001b[0m\u001b[1;33m\u001b[0m\u001b[0m\n\u001b[1;32m----> 4\u001b[1;33m \u001b[0mprint\u001b[0m\u001b[1;33m(\u001b[0m\u001b[0mmy_set\u001b[0m\u001b[1;33m)\u001b[0m\u001b[1;33m\u001b[0m\u001b[1;33m\u001b[0m\u001b[0m\n\u001b[0m",
      "\u001b[1;31mNameError\u001b[0m: name 'my_set' is not defined"
     ]
    }
   ],
   "source": [
    "#del KEyword also empties the set.\n",
    "my_set= {\"HP\", \"Vaio\",\"Dell\", \" Lenovo\",\"Microsoft\", \"Apple\"}\n",
    "del my_set\n",
    "print(my_set) #will show you am error."
   ]
  },
  {
   "cell_type": "code",
   "execution_count": 18,
   "metadata": {},
   "outputs": [
    {
     "name": "stdout",
     "output_type": "stream",
     "text": [
      "{'Microsoft', 'Lenovo', 'HP', 'Vaio', 'Acer', 'Dell', 'Samsung', 'Apple'}\n",
      "{'Microsoft', 'HP', 'Vaio', 'Samsung', 'Apple', 'Lenovo', 'Acer', 'Dell'}\n"
     ]
    }
   ],
   "source": [
    "#Join two sets\n",
    "#Remember the 10th set chapeter in 10th standard book, likewise to join the set union() or update() method is used.\n",
    "\n",
    "my_set= {\"HP\", \"Vaio\",\"Dell\", \"Lenovo\",\"Microsoft\", \"Apple\"}\n",
    "my_set1={\"Samsung\", \"Acer\"}\n",
    "\n",
    "my_set2= my_set.union(my_set1)\n",
    "print(my_set2)\n",
    "\n",
    "#Update()\n",
    "\n",
    "my_set= {\"HP\", \"Vaio\",\"Dell\", \"Lenovo\",\"Microsoft\", \"Apple\"}\n",
    "my_set1= {\"Samsung\", \"Acer\"}\n",
    "\n",
    "my_set.update(my_set1)\n",
    "print(my_set)\n",
    "\n",
    "#Note:- union() and update() will exclude any duplicate item."
   ]
  }
 ],
 "metadata": {
  "kernelspec": {
   "display_name": "Python 3",
   "language": "python",
   "name": "python3"
  },
  "language_info": {
   "codemirror_mode": {
    "name": "ipython",
    "version": 3
   },
   "file_extension": ".py",
   "mimetype": "text/x-python",
   "name": "python",
   "nbconvert_exporter": "python",
   "pygments_lexer": "ipython3",
   "version": "3.8.3"
  }
 },
 "nbformat": 4,
 "nbformat_minor": 4
}
