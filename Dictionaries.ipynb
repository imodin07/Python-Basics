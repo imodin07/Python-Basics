{
 "cells": [
  {
   "cell_type": "markdown",
   "metadata": {},
   "source": [
    "# Dictionaries"
   ]
  },
  {
   "cell_type": "code",
   "execution_count": 7,
   "metadata": {},
   "outputs": [
    {
     "name": "stdout",
     "output_type": "stream",
     "text": [
      "{'Name': 'Ryder', 'Model': 'Pulsar', 'year': 2018}\n",
      "<class 'dict'>\n"
     ]
    }
   ],
   "source": [
    "#A dictionary is collection which is unordered, chamgeable and indexed.\n",
    "#In python, dictionaries are written with curly brackets and they have keys and values.\n",
    "#Example\n",
    "\n",
    "my_dict={\n",
    "    \"Name\":\"Ryder\",\n",
    "       \"Model\":\"Pulsar\",\n",
    "       \"year\": 2018\n",
    "}\n",
    "print(my_dict)\n",
    "print(type(my_dict))"
   ]
  },
  {
   "cell_type": "code",
   "execution_count": 12,
   "metadata": {},
   "outputs": [
    {
     "name": "stdout",
     "output_type": "stream",
     "text": [
      "Pulsar\n",
      "2018\n"
     ]
    }
   ],
   "source": [
    "#Accessing the elements\n",
    "#You can access the elements in dictionary by reffering to its key, name, inside sqaure brackets\n",
    "\n",
    "x= my_dict[\"Model\"]\n",
    "print(x)\n",
    "\n",
    "#You can also use get() function.\n",
    "\n",
    "x= my_dict.get(\"year\")\n",
    "print(x)"
   ]
  }
 ],
 "metadata": {
  "kernelspec": {
   "display_name": "Python 3",
   "language": "python",
   "name": "python3"
  },
  "language_info": {
   "codemirror_mode": {
    "name": "ipython",
    "version": 3
   },
   "file_extension": ".py",
   "mimetype": "text/x-python",
   "name": "python",
   "nbconvert_exporter": "python",
   "pygments_lexer": "ipython3",
   "version": "3.8.3"
  }
 },
 "nbformat": 4,
 "nbformat_minor": 4
}
